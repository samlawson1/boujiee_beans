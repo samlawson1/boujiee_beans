{
 "cells": [
  {
   "cell_type": "markdown",
   "metadata": {},
   "source": [
    "# Boujiee Benji's Black Beans\n"
   ]
  },
  {
   "cell_type": "code",
   "execution_count": null,
   "metadata": {},
   "outputs": [],
   "source": [
    "\n",
    "sales = [\n",
    "    2, 5, '3', 7.0,  5.0, 2.0, '1', 6.0, 8, 3, 5, '6', 5.0, '2',\n",
    "    '9', 5.0, '6', 9.0, 1, 4, '4', 8, 3, 7, 9, 5, 1, 3, 3, '5',\n",
    "    '8' , 3, '7', 3, '4', 4, 1, '5', '6', 3.0, 9.0, 8, 4, 1, '1',\n",
    "    4, 6, 9.0, 2, 4, '7', 2, 1, 4.0, '6', 7, 7.0, 8, '3', 4\n",
    "]\n",
    "\n"
   ]
  },
  {
   "cell_type": "code",
   "execution_count": null,
   "metadata": {},
   "outputs": [],
   "source": []
  }
 ],
 "metadata": {
  "kernelspec": {
   "display_name": "Python 3",
   "language": "python",
   "name": "python3"
  },
  "language_info": {
   "codemirror_mode": {
    "name": "ipython",
    "version": 3
   },
   "file_extension": ".py",
   "mimetype": "text/x-python",
   "name": "python",
   "nbconvert_exporter": "python",
   "pygments_lexer": "ipython3",
   "version": "3.7.3"
  }
 },
 "nbformat": 4,
 "nbformat_minor": 2
}
